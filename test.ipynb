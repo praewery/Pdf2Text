{
  "cells": [
    {
      "cell_type": "markdown",
      "metadata": {
        "id": "qxXdENmc_VkH"
      },
      "source": [
        "# FixThaiPDF\n",
        "\n",
        "Fix Thai PDF Text\n",
        "\n",
        "GitHub: [https://github.com/wannaphong/fixthaipdf](https://github.com/wannaphong/fixthaipdf)\n",
        "\n",
        "[![](https://colab.research.google.com/assets/colab-badge.svg)](https://colab.research.google.com/github/wannaphong/fixthaipdf/blob/main/notebooks/test.ipynb)"
      ]
    },
    {
      "cell_type": "code",
      "execution_count": 1,
      "metadata": {
        "id": "JnAMMZIv_VkJ",
        "outputId": "e407eaf1-3364-4bcb-8f49-6f1eafab923e",
        "colab": {
          "base_uri": "https://localhost:8080/"
        }
      },
      "outputs": [
        {
          "output_type": "stream",
          "name": "stdout",
          "text": [
            "--2024-06-28 08:44:41--  https://github.com/wannaphong/fixthaipdf/raw/main/tests/140A022N0000000000100.pdf\n",
            "Resolving github.com (github.com)... 140.82.113.4\n",
            "Connecting to github.com (github.com)|140.82.113.4|:443... connected.\n",
            "HTTP request sent, awaiting response... 302 Found\n",
            "Location: https://raw.githubusercontent.com/wannaphong/fixthaipdf/main/tests/140A022N0000000000100.pdf [following]\n",
            "--2024-06-28 08:44:41--  https://raw.githubusercontent.com/wannaphong/fixthaipdf/main/tests/140A022N0000000000100.pdf\n",
            "Resolving raw.githubusercontent.com (raw.githubusercontent.com)... 185.199.108.133, 185.199.109.133, 185.199.110.133, ...\n",
            "Connecting to raw.githubusercontent.com (raw.githubusercontent.com)|185.199.108.133|:443... connected.\n",
            "HTTP request sent, awaiting response... 200 OK\n",
            "Length: 91482 (89K) [application/octet-stream]\n",
            "Saving to: ‘140A022N0000000000100.pdf’\n",
            "\n",
            "140A022N00000000001 100%[===================>]  89.34K  --.-KB/s    in 0.01s   \n",
            "\n",
            "2024-06-28 08:44:41 (6.36 MB/s) - ‘140A022N0000000000100.pdf’ saved [91482/91482]\n",
            "\n"
          ]
        }
      ],
      "source": [
        "!wget https://github.com/wannaphong/fixthaipdf/raw/main/tests/140A022N0000000000100.pdf"
      ]
    },
    {
      "cell_type": "code",
      "execution_count": 2,
      "metadata": {
        "id": "-u3oAevt_VkK",
        "outputId": "c8ae1732-f297-408d-9d2b-04082a285767",
        "colab": {
          "base_uri": "https://localhost:8080/"
        }
      },
      "outputs": [
        {
          "output_type": "stream",
          "name": "stdout",
          "text": [
            "Collecting pypdf\n",
            "  Downloading pypdf-4.2.0-py3-none-any.whl (290 kB)\n",
            "\u001b[?25l     \u001b[90m━━━━━━━━━━━━━━━━━━━━━━━━━━━━━━━━━━━━━━━━\u001b[0m \u001b[32m0.0/290.4 kB\u001b[0m \u001b[31m?\u001b[0m eta \u001b[36m-:--:--\u001b[0m\r\u001b[2K     \u001b[91m━━━━━━━━━━━━━━━━━━━━━━━━━━━━\u001b[0m\u001b[90m╺\u001b[0m\u001b[90m━━━━━━━━━━━\u001b[0m \u001b[32m204.8/290.4 kB\u001b[0m \u001b[31m5.9 MB/s\u001b[0m eta \u001b[36m0:00:01\u001b[0m\r\u001b[2K     \u001b[90m━━━━━━━━━━━━━━━━━━━━━━━━━━━━━━━━━━━━━━━━\u001b[0m \u001b[32m290.4/290.4 kB\u001b[0m \u001b[31m5.5 MB/s\u001b[0m eta \u001b[36m0:00:00\u001b[0m\n",
            "\u001b[?25hCollecting fixthaipdf\n",
            "  Downloading FixThaiPDF-0.2.1-py3-none-any.whl (12 kB)\n",
            "Requirement already satisfied: typing_extensions>=4.0 in /usr/local/lib/python3.10/dist-packages (from pypdf) (4.12.2)\n",
            "Collecting pythainlp>4.0 (from fixthaipdf)\n",
            "  Downloading pythainlp-5.0.4-py3-none-any.whl (17.9 MB)\n",
            "\u001b[2K     \u001b[90m━━━━━━━━━━━━━━━━━━━━━━━━━━━━━━━━━━━━━━━━\u001b[0m \u001b[32m17.9/17.9 MB\u001b[0m \u001b[31m49.6 MB/s\u001b[0m eta \u001b[36m0:00:00\u001b[0m\n",
            "\u001b[?25hRequirement already satisfied: requests>=2.22.0 in /usr/local/lib/python3.10/dist-packages (from pythainlp>4.0->fixthaipdf) (2.31.0)\n",
            "Requirement already satisfied: charset-normalizer<4,>=2 in /usr/local/lib/python3.10/dist-packages (from requests>=2.22.0->pythainlp>4.0->fixthaipdf) (3.3.2)\n",
            "Requirement already satisfied: idna<4,>=2.5 in /usr/local/lib/python3.10/dist-packages (from requests>=2.22.0->pythainlp>4.0->fixthaipdf) (3.7)\n",
            "Requirement already satisfied: urllib3<3,>=1.21.1 in /usr/local/lib/python3.10/dist-packages (from requests>=2.22.0->pythainlp>4.0->fixthaipdf) (2.0.7)\n",
            "Requirement already satisfied: certifi>=2017.4.17 in /usr/local/lib/python3.10/dist-packages (from requests>=2.22.0->pythainlp>4.0->fixthaipdf) (2024.6.2)\n",
            "Installing collected packages: pypdf, pythainlp, fixthaipdf\n",
            "Successfully installed fixthaipdf-0.2.1 pypdf-4.2.0 pythainlp-5.0.4\n"
          ]
        }
      ],
      "source": [
        "!pip install pypdf fixthaipdf"
      ]
    },
    {
      "cell_type": "code",
      "execution_count": 3,
      "metadata": {
        "id": "FjNFbzgY_VkL"
      },
      "outputs": [],
      "source": [
        "import os\n",
        "from pypdf import PdfReader"
      ]
    },
    {
      "cell_type": "code",
      "execution_count": 4,
      "metadata": {
        "id": "FXfh01x-_VkL"
      },
      "outputs": [],
      "source": [
        "pdf_path = \"140A022N0000000000100.pdf\""
      ]
    },
    {
      "cell_type": "code",
      "execution_count": 5,
      "metadata": {
        "id": "aLCRnBI2_VkL",
        "outputId": "83a28591-b596-4fa8-8352-c144aa883be7",
        "colab": {
          "base_uri": "https://localhost:8080/"
        }
      },
      "outputs": [
        {
          "output_type": "stream",
          "name": "stdout",
          "text": [
            "2\n"
          ]
        }
      ],
      "source": [
        "reader = PdfReader(pdf_path)\n",
        "number_of_pages = len(reader.pages)\n",
        "print(number_of_pages)"
      ]
    },
    {
      "cell_type": "code",
      "execution_count": 6,
      "metadata": {
        "id": "4_HTT3f4_VkL"
      },
      "outputs": [],
      "source": [
        "text='\\n'.join([i.extract_text() for i in reader.pages])"
      ]
    },
    {
      "cell_type": "code",
      "execution_count": 7,
      "metadata": {
        "id": "Iq0YcDnC_VkM",
        "outputId": "3ef00cd8-ba22-4ca2-b531-499ca88badf4",
        "colab": {
          "base_uri": "https://localhost:8080/"
        }
      },
      "outputs": [
        {
          "output_type": "stream",
          "name": "stdout",
          "text": [
            " \n",
            " \n",
            "พระราชกฤษฎีกา  \n",
            "ยุบสภาผู้แทนราษฎร  \n",
            "พ.ศ.  ๒๕๖๖  \n",
            " \n",
            " \n",
            "พระบาทสมเด็จพระปรเมนทรรามาธิบดีศรีสินทรมหาวชิราลงกรณ  \n",
            "พระวชิรเกล้าเจ้าอยู่หัว  \n",
            "ให้ไว้  ณ  วันที่  17  มีนาคม  พ.ศ.  ๒๕๖6 \n",
            "เป็นปีที่  8  ในรัชกาลปัจจุบัน  \n",
            "พระบาทสมเด็จพระปรเมนทรรามาธิบดีศรีสินทรมหาวชิราลงกรณ   พระวชิรเกล้าเจ้าอยู่หัว    \n",
            "มีพระบรมราชโองการโปรดเกล้าฯ   ให้ประกาศว่า  \n",
            "ด้วยนายกรัฐมนตรีได้น าความกราบบังคมทูลฯ  ว่า  ตามที่สภาผู้แทนราษฎรได้ปฏิบัติหน้าที่ตั้งแต่  \n",
            "พ.ศ.  ๒๕๖๒  และบัดนี้ได้ปิดสมัยประชุมสามัญประจ าปีที่สี่อันเป็นปีสุดท้ายของอายุสภาผู้แทนราษฎรแล้ว   \n",
            "สมควรยุบสภาผู้แทนราษฎรเพื่อจัดให้มีการเลือกตั้งสมาชิกสภาผู้แทนราษฎรใหม่เป็นการเลือกตั้งทั่วไป\n",
            "ตามบทบัญญัติของรัฐธรรมนูญแห่งราชอาณาจักรไทย   อันเป็นการคืนอ านาจการตัดสินใจทาง การเมือง\n",
            "ให้แก่ประชาชนโดยเร็วเพื่อให้การปกครองในระบอบประชาธิปไตยอันมีพระมหากษัตริย์ทรงเป็นประมุข\n",
            "ด าเนินไปอย่างต่อเนื่อง  \n",
            "อาศัยอ านาจตามความในมาตรา  ๑๐๓  และมาตรา  ๑๗๕  ของรัฐธรรมนูญแห่งราชอาณาจักรไทย   \n",
            "จึงทรงพระกรุณาโปรดเกล้าฯ   ให้ตราพระราชกฤษฎีกาขึ้นไว้   ดังต่อไปนี้ \n",
            "มาตรา  ๑ พระราชกฤษฎีกานี้เรียกว่า  “พระราชกฤษฎีกายุบสภาผู้แทนราษฎร  พ.ศ.  ๒๕๖๖” \n",
            "มาตรา  ๒ พระราชกฤษฎีกานี้ให้ใช้บังคับตั้งแต่วันประกาศในราชกิจจานุเบกษาเป็นต้นไป  \n",
            "้หนา   ๑\n",
            "่เลม   ๑๔๐   ตอนที่   ๒๒    ก ราชกิจจานุเบกษา ๒๐   มีนาคม   ๒๕๖๖\n",
            "มาตรา  ๓ ให้ยุบสภาผู้แทนราษฎรเพื่อให้มีการเลือกตั้งสมาชิกสภาผู้แทนราษฎรใหม่  \n",
            "เป็นการเลือกตั้ง ทั่วไป \n",
            "มาตรา  ๔ ให้มีการเลือกตั้งสมาชิกสภาผู้แทนราษฎรเป็นการทั่วไปในวันที่คณะกรรมการ  \n",
            "การเลือกตั้งประกาศก าหนดซึ่งต้องไม่น้อยกว่าสี่สิบห้าวันแต่ไม่เกินหกสิบวันนับแต่วันที่พระราชกฤษฎีกานี้  \n",
            "ใช้บังคับ  \n",
            "มาตรา  ๕ ให้ประธานกรรมการการเลือกตั้งรักษาการตามพระราชกฤษฎีกานี้  \n",
            " \n",
            "ผู้รับสนองพระบรมราชโองการ  \n",
            "พลเอก ประยุทธ์  จันทร์โอชา  \n",
            "นายกรัฐมนตรี  ้หนา   ๒\n",
            "่เลม   ๑๔๐   ตอนที่   ๒๒    ก ราชกิจจานุเบกษา ๒๐   มีนาคม   ๒๕๖๖\n"
          ]
        }
      ],
      "source": [
        "print(text)"
      ]
    },
    {
      "cell_type": "code",
      "execution_count": 8,
      "metadata": {
        "id": "ZA-mHqcq_VkM"
      },
      "outputs": [],
      "source": [
        "from fixthaipdf import clean"
      ]
    },
    {
      "cell_type": "code",
      "execution_count": 9,
      "metadata": {
        "id": "XIoxIAyX_VkM",
        "outputId": "91584d89-27d3-4f67-800e-2c567b3cf14c",
        "colab": {
          "base_uri": "https://localhost:8080/"
        }
      },
      "outputs": [
        {
          "output_type": "stream",
          "name": "stdout",
          "text": [
            "พระราชกฤษฎีกา\n",
            "ยุบสภาผู้แทนราษฎร\n",
            "พ.ศ. ๒๕๖๖\n",
            "พระบาทสมเด็จพระปรเมนทรรามาธิบดีศรีสินทรมหาวชิราลงกรณ\n",
            "พระวชิรเกล้าเจ้าอยู่หัว\n",
            "ให้ไว้ณ วันที่ 17 มีนาคม พ.ศ. ๒๕๖6\n",
            "เป็นปีที่ 8 ในรัชกาลปัจจุบัน\n",
            "พระบาทสมเด็จพระปรเมนทรรามาธิบดีศรีสินทรมหาวชิราลงกรณ พระวชิรเกล้าเจ้าอยู่หัว\n",
            "มีพระบรมราชโองการโปรดเกล้าฯ ให้ประกาศว่า\n",
            "ด้วยนายกรัฐมนตรีได้นำความกราบบังคมทูลฯ ว่า ตามที่สภาผู้แทนราษฎรได้ปฏิบัติหน้าที่ตั้งแต่\n",
            "พ.ศ. ๒๕๖๒ และบัดนี้ได้ปิดสมัยประชุมสามัญประจำปีที่สี่อันเป็นปีสุดท้ายของอายุสภาผู้แทนราษฎรแล้ว\n",
            "สมควรยุบสภาผู้แทนราษฎรเพื่อจัดให้มีการเลือกตั้งสมาชิกสภาผู้แทนราษฎรใหม่เป็นการเลือกตั้งทั่วไป\n",
            "ตามบทบัญญัติของรัฐธรรมนูญแห่งราชอาณาจักรไทย อันเป็นการคืนอำนาจการตัดสินใจทาง การเมือง\n",
            "ให้แก่ประชาชนโดยเร็วเพื่อให้การปกครองในระบอบประชาธิปไตยอันมีพระมหากษัตริย์ทรงเป็นประมุข\n",
            "ดำเนินไปอย่างต่อเนื่อง\n",
            "อาศัยอำนาจตามความในมาตรา ๑๐๓ และมาตรา ๑๗๕ ของรัฐธรรมนูญแห่งราชอาณาจักรไทย\n",
            "จึงทรงพระกรุณาโปรดเกล้าฯ ให้ตราพระราชกฤษฎีกาขึ้นไว้ดังต่อไปนี้\n",
            "มาตรา ๑ พระราชกฤษฎีกานี้เรียกว่า “พระราชกฤษฎีกายุบสภาผู้แทนราษฎร พ.ศ. ๒๕๖๖”\n",
            "มาตรา ๒ พระราชกฤษฎีกานี้ให้ใช้บังคับตั้งแต่วันประกาศในราชกิจจานุเบกษาเป็นต้นไป\n",
            "หน้า ๑\n",
            "เล่ม ๑๔๐ ตอนที่ ๒๒ ก ราชกิจจานุเบกษา ๒๐ มีนาคม ๒๕๖๖\n",
            "มาตรา ๓ ให้ยุบสภาผู้แทนราษฎรเพื่อให้มีการเลือกตั้งสมาชิกสภาผู้แทนราษฎรใหม่\n",
            "เป็นการเลือกตั้ง ทั่วไป\n",
            "มาตรา ๔ ให้มีการเลือกตั้งสมาชิกสภาผู้แทนราษฎรเป็นการทั่วไปในวันที่คณะกรรมการ\n",
            "การเลือกตั้งประกาศกำหนดซึ่งต้องไม่น้อยกว่าสี่สิบห้าวันแต่ไม่เกินหกสิบวันนับแต่วันที่พระราชกฤษฎีกานี้\n",
            "ใช้บังคับ\n",
            "มาตรา ๕ ให้ประธานกรรมการการเลือกตั้งรักษาการตามพระราชกฤษฎีกานี้\n",
            "ผู้รับสนองพระบรมราชโองการ\n",
            "พลเอก ประยุทธ์ จันทร์โอชา\n",
            "นายกรัฐมนตรี หน้า ๒\n",
            "เล่ม ๑๔๐ ตอนที่ ๒๒ ก ราชกิจจานุเบกษา ๒๐ มีนาคม ๒๕๖๖\n"
          ]
        }
      ],
      "source": [
        "print(clean(text))"
      ]
    },
    {
      "cell_type": "code",
      "execution_count": null,
      "metadata": {
        "id": "xX_ERJHW_VkM"
      },
      "outputs": [],
      "source": []
    }
  ],
  "metadata": {
    "kernelspec": {
      "display_name": "Python 3.8.13 ('base')",
      "language": "python",
      "name": "python3"
    },
    "language_info": {
      "codemirror_mode": {
        "name": "ipython",
        "version": 3
      },
      "file_extension": ".py",
      "mimetype": "text/x-python",
      "name": "python",
      "nbconvert_exporter": "python",
      "pygments_lexer": "ipython3",
      "version": "3.8.13"
    },
    "orig_nbformat": 4,
    "vscode": {
      "interpreter": {
        "hash": "a1d6ff38954a1cdba4cf61ffa51e42f4658fc35985cd256cd89123cae8466a39"
      }
    },
    "colab": {
      "provenance": []
    }
  },
  "nbformat": 4,
  "nbformat_minor": 0
}